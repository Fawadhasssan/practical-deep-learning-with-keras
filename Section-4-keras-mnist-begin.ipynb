{
 "cells": [
  {
   "cell_type": "code",
   "execution_count": 1,
   "metadata": {},
   "outputs": [],
   "source": [
    "from __future__ import print_function  \n",
    "# for Python2 compatibility "
   ]
  },
  {
   "cell_type": "code",
   "execution_count": 2,
   "metadata": {},
   "outputs": [],
   "source": [
    "import numpy \n",
    "numpy.random.seed(1337)   # for experiment reproducibility "
   ]
  },
  {
   "cell_type": "code",
   "execution_count": 15,
   "metadata": {},
   "outputs": [],
   "source": [
    "import keras\n",
    "from keras.datasets import mnist"
   ]
  },
  {
   "cell_type": "code",
   "execution_count": 16,
   "metadata": {},
   "outputs": [],
   "source": [
    "#  numeber of class mean 0-9\n",
    "num_classes = 10\n",
    "\n",
    "#  batch size mean 128 pixel of input at once to the network \n",
    "batch_size = 128     \n",
    "\n",
    "#  epochs neans all the datapoints say 1000 given to network,cld one epoch\n",
    "epochs = 2\n"
   ]
  },
  {
   "cell_type": "code",
   "execution_count": 17,
   "metadata": {},
   "outputs": [],
   "source": [
    "# the data, shuffled and split between train and test sets\n",
    "# now load_data is blackbox for us, we will covers it in detail in later videos\n",
    "(x_train, y_train), (x_test, y_test) = mnist.load_data()"
   ]
  },
  {
   "cell_type": "code",
   "execution_count": 18,
   "metadata": {},
   "outputs": [
    {
     "name": "stdout",
     "output_type": "stream",
     "text": [
      "(60000, 28, 28) (60000,) (10000, 28, 28) (10000,)\n"
     ]
    },
    {
     "data": {
      "text/plain": [
       "'\\n60000 data-points where 28x28 is images demension,but we need to flatten this (28,28) \\nto (784,1) used reshaoe for it, we will do this process for x_train and x_test\\n'"
      ]
     },
     "execution_count": 18,
     "metadata": {},
     "output_type": "execute_result"
    }
   ],
   "source": [
    "print(x_train.shape, y_train.shape, x_test.shape, y_test.shape)\n",
    "\n",
    "'''\n",
    "60000 data-points where 28x28 is images demension,but we need to flatten this (28,28) \n",
    "to (784,1) used reshaoe for it, we will do this process for x_train and x_test\n",
    "'''"
   ]
  },
  {
   "cell_type": "code",
   "execution_count": 19,
   "metadata": {},
   "outputs": [
    {
     "name": "stdout",
     "output_type": "stream",
     "text": [
      "60000 train samples\n",
      "10000 test samples\n"
     ]
    }
   ],
   "source": [
    "x_train = x_train.reshape(60000, 784)  # 28x28 = 784\n",
    "x_test = x_test.reshape(10000, 784)\n",
    "\n",
    "'''\n",
    "once we reshape the x_train and x_test \n",
    "we will change the type of both into float32\n",
    "'''\n",
    "x_train = x_train.astype('float32') \n",
    "x_test = x_test.astype('float32') \n",
    "\n",
    "'''\n",
    "we will rescale our data from 0-255 into 0-1 ,so that it will easily normalize\n",
    "'''\n",
    "\n",
    "x_train /= 255  # 0 - 255 ...  0-1 \n",
    "x_test /= 255   # normalizing your data \n",
    "\n",
    "\n",
    "print(x_train.shape[0], 'train samples')\n",
    "print(x_test.shape[0], 'test samples')"
   ]
  },
  {
   "cell_type": "code",
   "execution_count": 20,
   "metadata": {},
   "outputs": [
    {
     "name": "stdout",
     "output_type": "stream",
     "text": [
      "(60000, 784)\n",
      "(60000,)\n"
     ]
    }
   ],
   "source": [
    "print(x_train.shape)\n",
    "print(y_train.shape)"
   ]
  },
  {
   "cell_type": "code",
   "execution_count": 21,
   "metadata": {},
   "outputs": [
    {
     "data": {
      "text/plain": [
       "5"
      ]
     },
     "execution_count": 21,
     "metadata": {},
     "output_type": "execute_result"
    }
   ],
   "source": [
    "# first label of our data\n",
    "y_train[0]"
   ]
  },
  {
   "cell_type": "code",
   "execution_count": 22,
   "metadata": {},
   "outputs": [],
   "source": [
    "# convert class vectors to binary class matrices\n",
    "'''\n",
    "5 -> [0,0,0,0,0,1,0,0,0,0] this is called one-hot vector\n",
    "\n",
    "y_train = training labels\n",
    "y_test = test labels\n",
    "num_classes = how many classes we have, in our case it's 10 (0-9)\n",
    "'''\n",
    "y_train = keras.utils.to_categorical(y_train, num_classes)\n",
    "y_test = keras.utils.to_categorical(y_test, num_classes)"
   ]
  },
  {
   "cell_type": "code",
   "execution_count": 23,
   "metadata": {},
   "outputs": [
    {
     "data": {
      "text/plain": [
       "array([0., 0., 0., 0., 0., 1., 0., 0., 0., 0.], dtype=float32)"
      ]
     },
     "execution_count": 23,
     "metadata": {},
     "output_type": "execute_result"
    }
   ],
   "source": [
    "y_train[0]"
   ]
  },
  {
   "cell_type": "markdown",
   "metadata": {},
   "source": [
    "That's called a one-hot vector. "
   ]
  },
  {
   "cell_type": "code",
   "execution_count": 25,
   "metadata": {},
   "outputs": [],
   "source": [
    "from keras.models import Sequential\n",
    "from keras.layers import Dense \n",
    "from keras.optimizers import SGD \n",
    "\n",
    "model = Sequential()"
   ]
  },
  {
   "cell_type": "code",
   "execution_count": 26,
   "metadata": {},
   "outputs": [
    {
     "name": "stdout",
     "output_type": "stream",
     "text": [
      "WARNING:tensorflow:From /home/fawadhasssan/.local/lib/python3.6/site-packages/tensorflow/python/framework/op_def_library.py:263: colocate_with (from tensorflow.python.framework.ops) is deprecated and will be removed in a future version.\n",
      "Instructions for updating:\n",
      "Colocations handled automatically by placer.\n"
     ]
    }
   ],
   "source": [
    "'''\n",
    "model.add()\n",
    "model.add()\n",
    "model.add()\n",
    "show that we have 3 layers\n",
    "Dense : we have alll dense layers(fully connected)\n",
    "activation : squishing function\n",
    "input_shape : only in the firsit layer bcz NN will auto-indentified it in later layer.\n",
    "512 : nodes in 1st and 2nd\n",
    "10 : nodes in last because it's output layer\n",
    "'''\n",
    "\n",
    "\n",
    "\n",
    "model.add( Dense(512, activation='sigmoid', input_shape=(784,)  ) )\n",
    "model.add( Dense(512, activation='sigmoid'  ) )\n",
    "model.add( Dense(num_classes, activation='softmax'))"
   ]
  },
  {
   "cell_type": "code",
   "execution_count": 27,
   "metadata": {},
   "outputs": [
    {
     "name": "stdout",
     "output_type": "stream",
     "text": [
      "_________________________________________________________________\n",
      "Layer (type)                 Output Shape              Param #   \n",
      "=================================================================\n",
      "dense_1 (Dense)              (None, 512)               401920    \n",
      "_________________________________________________________________\n",
      "dense_2 (Dense)              (None, 512)               262656    \n",
      "_________________________________________________________________\n",
      "dense_3 (Dense)              (None, 10)                5130      \n",
      "=================================================================\n",
      "Total params: 669,706\n",
      "Trainable params: 669,706\n",
      "Non-trainable params: 0\n",
      "_________________________________________________________________\n"
     ]
    }
   ],
   "source": [
    "# What does the model look like? \n",
    "model.summary()\n",
    "\n",
    "'''\n",
    "None : you can add any number of data points over there, (not > 512)\n",
    "Total params: 669,706 means you have this much theta in the networks \n",
    "which need to update.\n",
    "'''"
   ]
  },
  {
   "cell_type": "code",
   "execution_count": 33,
   "metadata": {},
   "outputs": [],
   "source": [
    "\n",
    "'''\n",
    "loss = categorical_crossentropy which will find the entropy or loss mnz \n",
    "        difference b/w predict label and actual labels\n",
    "        \n",
    "optimizer = SGD() skip this for the moment\n",
    "\n",
    "metrics : is accuracy it will find the accuracy and show in the form of table to us\n",
    "'''\n",
    "\n",
    "# Compile the model \n",
    "model.compile(loss='categorical_crossentropy', optimizer=SGD(), \n",
    "              metrics=['accuracy'])\n",
    "\n",
    "\n",
    "\n"
   ]
  },
  {
   "cell_type": "code",
   "execution_count": 34,
   "metadata": {},
   "outputs": [
    {
     "name": "stdout",
     "output_type": "stream",
     "text": [
      "WARNING:tensorflow:From /home/fawadhasssan/.local/lib/python3.6/site-packages/tensorflow/python/ops/math_ops.py:3066: to_int32 (from tensorflow.python.ops.math_ops) is deprecated and will be removed in a future version.\n",
      "Instructions for updating:\n",
      "Use tf.cast instead.\n",
      "Train on 60000 samples, validate on 10000 samples\n",
      "Epoch 1/2\n",
      "60000/60000 [==============================] - 10s 160us/step - loss: 2.2733 - acc: 0.1880 - val_loss: 2.2331 - val_acc: 0.2969\n",
      "Epoch 2/2\n",
      "60000/60000 [==============================] - 10s 160us/step - loss: 2.1940 - acc: 0.3729 - val_loss: 2.1435 - val_acc: 0.3228\n"
     ]
    }
   ],
   "source": [
    "# let's perform the learning \n",
    "\n",
    "'''\n",
    "batch =128\n",
    "epochs =2\n",
    "verbose =1 mean all the progress output show to us.\n",
    "validation_data = our test data\n",
    "\n",
    "'''\n",
    "history = model.fit( x_train, y_train, \n",
    "           batch_size=batch_size,\n",
    "           epochs=epochs, \n",
    "           verbose=1, \n",
    "           validation_data=(x_test, y_test))"
   ]
  },
  {
   "cell_type": "code",
   "execution_count": 38,
   "metadata": {},
   "outputs": [
    {
     "name": "stdout",
     "output_type": "stream",
     "text": [
      "10000/10000 [==============================] - 1s 77us/step\n"
     ]
    }
   ],
   "source": [
    "'''\n",
    "after 1 epoch\n",
    "val_acc: 0.2969 mnx 29% accuracy \n",
    "but if you run 20 epochs your will get the much better results.\n",
    "\n",
    "we will evalute model by comparing our predicted laels x_test with actual y_test\n",
    "'''\n",
    "\n",
    "# Let's evaluate the model \n",
    "score = model.evaluate(x_test, y_test)"
   ]
  },
  {
   "cell_type": "markdown",
   "metadata": {
    "collapsed": true
   },
   "source": [
    "See some great results here: http://rodrigob.github.io/are_we_there_yet/build/classification_datasets_results.html#4d4e495354 "
   ]
  },
  {
   "cell_type": "code",
   "execution_count": 39,
   "metadata": {},
   "outputs": [
    {
     "data": {
      "text/plain": [
       "[2.1435065185546875, 0.3228]"
      ]
     },
     "execution_count": 39,
     "metadata": {},
     "output_type": "execute_result"
    }
   ],
   "source": [
    "score"
   ]
  },
  {
   "cell_type": "code",
   "execution_count": 40,
   "metadata": {},
   "outputs": [
    {
     "data": {
      "text/plain": [
       "'\\nOn the link of github you can see the great result achieved with the different models\\nresult = 0.21% which mnz only 0.21% loss , all mnz that accuracy about = 0.98%\\nwhich is very good.\\n'"
      ]
     },
     "execution_count": 40,
     "metadata": {},
     "output_type": "execute_result"
    }
   ],
   "source": [
    "'''\n",
    "where \n",
    "score[0] = loss \n",
    "score[1] = accuracy\n",
    "'''\n",
    "\n",
    "\n",
    "'''\n",
    "On the link of github you can see the great result achieved with the different models\n",
    "result = 0.21% which mnz only 0.21% loss , all mnz that accuracy about = 0.98%\n",
    "which is very good.\n",
    "'''"
   ]
  },
  {
   "cell_type": "code",
   "execution_count": null,
   "metadata": {},
   "outputs": [],
   "source": []
  }
 ],
 "metadata": {
  "kernelspec": {
   "display_name": "Python 3",
   "language": "python",
   "name": "python3"
  },
  "language_info": {
   "codemirror_mode": {
    "name": "ipython",
    "version": 3
   },
   "file_extension": ".py",
   "mimetype": "text/x-python",
   "name": "python",
   "nbconvert_exporter": "python",
   "pygments_lexer": "ipython3",
   "version": "3.6.9"
  }
 },
 "nbformat": 4,
 "nbformat_minor": 2
}
